{
 "cells": [
  {
   "cell_type": "markdown",
   "metadata": {},
   "source": [
    "---------\n",
    "# Université de Limoges\n",
    "## CRYPTIS MASTER 2 - XLIM  - Examen de Travaux Pratiques \n",
    "### Implementation et Cartes à puces -- Side Channel Analysis\n",
    "-------\n",
    "\n",
    "Date: vendredi 9 février 2024\n",
    "\n",
    "DUREE : 2H\n",
    "----\n",
    "\n",
    "\n",
    "# CE NOTEBOOK EST UN EXAMPLE DE SOLUTION \n",
    "\n",
    "\n",
    "----\n",
    "# SUJET \n",
    "\n",
    "## Matériel à utiliser pour cet examen de TP\n",
    "\n",
    "Le notebook prêt à être utilisé se trouve ici: https://github.com/BeneoLix/SideCA-TP-CWLite\n",
    "\n",
    "* fichier = TP_SCA_EXAM_XLIM_2024.ipynb\n",
    "\n",
    "Et les traces à utiliser ici: https://github.com/BeneoLix/SideSCA-Traces-Public\n",
    "\n",
    "* fichier = anonymous_exec_traces.ets\n",
    "\n",
    "\n",
    "### 0. Veuillez cloner ou télécharger ces deux fichier et les mettre dans votre environnement Jupyter Lab (ou Jupyter notebook) pour les executer \n",
    "... de la même manière que ce que nous avons fait pendant les 3 TPs.\n",
    "\n",
    "\n",
    "### 1. Etape 1: faite une analyse simple (de type SPA) des traces afin de reconnaitre l'algorithme attaqué ... \n",
    "* Expliquez à quoi on le reconnait\n",
    "* Expliquez quelles opérations on peut reconnaitre dans la trace et à quel endroit\n",
    "\n",
    "### 2. Etape 2: attaquez les traces en DPA et en CPA pour retrouver la clef si possible\n",
    "\n",
    "* Retrouvez vous la clef en DPA et en CPA?\n",
    "\n",
    "* Si oui combien de traces faut il au moins avec la DPA pour retrouver la clef complète à 10 traces près ?\n",
    "\n",
    "* Si oui combien de traces faut il au moins avec la CPA pour retrouver la clef complète à 10 traces près ?\n",
    "\n",
    "* Comparez l'efficacité de ces deux attaques: la DPA vs la CPA \n",
    "\n",
    "\n",
    "### Pour l'éxécutions des taches requises en 1. et 2. __l'étudiant est libre de réaliser ces analyses dans l'ordre qu'il souhaite (!!!) __ mais doit présenter une analyse construite et logique.\n"
   ]
  },
  {
   "cell_type": "markdown",
   "metadata": {},
   "source": [
    "------\n",
    "\n",
    "### Votre travail sera réalisé dans ce notebook:\n",
    "- Utilisez les cellules en mode markdown pour mettre votre texte, vos explications\n",
    "- Utiliser les cellules de code pour faire vos tests\n",
    "- Vous pouvez sauver le notebook avec les images\n",
    "- Je rejouerai le notebook de toue facon lors de la correction\n",
    "\n",
    "### Bon examen de TP !"
   ]
  },
  {
   "cell_type": "markdown",
   "metadata": {},
   "source": [
    "-----------\n",
    "* __NOM:__ Jean \n",
    "* __PRENOM:__ DUPONT\n",
    "--------"
   ]
  },
  {
   "cell_type": "code",
   "execution_count": null,
   "metadata": {},
   "outputs": [],
   "source": [
    "import estraces\n",
    "import scared"
   ]
  },
  {
   "cell_type": "code",
   "execution_count": null,
   "metadata": {},
   "outputs": [],
   "source": [
    "import numpy as np"
   ]
  },
  {
   "cell_type": "code",
   "execution_count": null,
   "metadata": {},
   "outputs": [],
   "source": [
    "vhex = np.vectorize(hex)"
   ]
  },
  {
   "cell_type": "code",
   "execution_count": null,
   "metadata": {},
   "outputs": [],
   "source": [
    "ths = estraces.read_ths_from_ets_file(\"../SideCA-Traces/anonymous_exec_traces.ets\") \n",
    "print(ths)"
   ]
  },
  {
   "cell_type": "code",
   "execution_count": null,
   "metadata": {},
   "outputs": [],
   "source": [
    "import matplotlib.pyplot as plt"
   ]
  },
  {
   "cell_type": "code",
   "execution_count": null,
   "metadata": {},
   "outputs": [],
   "source": [
    "plt.rcParams['figure.figsize']=(16,4)"
   ]
  },
  {
   "cell_type": "code",
   "execution_count": null,
   "metadata": {},
   "outputs": [],
   "source": [
    "plt.plot(ths.samples[0:1].T)\n",
    "plt.title('AES traces')\n",
    "plt.show()"
   ]
  },
  {
   "cell_type": "code",
   "execution_count": null,
   "metadata": {},
   "outputs": [],
   "source": [
    "ths.metadata_tags"
   ]
  },
  {
   "cell_type": "markdown",
   "metadata": {},
   "source": [
    "---------\n",
    "## Simple Observation\n",
    "#### Appilcation un post processing simple comme la moyenne glissante pour observe les patterns dans la trace."
   ]
  },
  {
   "cell_type": "code",
   "execution_count": null,
   "metadata": {},
   "outputs": [],
   "source": [
    "def moving_average(a, n=3):\n",
    "    ret = np.cumsum(a, dtype=float)\n",
    "    ret[n:] = ret[n:] - ret[:-n]\n",
    "    return ret[n - 1:] / n"
   ]
  },
  {
   "cell_type": "code",
   "execution_count": null,
   "metadata": {},
   "outputs": [],
   "source": [
    "window_pts = 10\n",
    "trace_mov_mean = moving_average(ths[0].samples, window_pts)"
   ]
  },
  {
   "cell_type": "code",
   "execution_count": null,
   "metadata": {},
   "outputs": [],
   "source": [
    "plt.rcParams['figure.figsize']=(16,4)\n",
    "plt.plot(trace_mov_mean)\n",
    "plt.title('AES trace after moving average with window size of '+str(window_pts))\n",
    "plt.show()"
   ]
  },
  {
   "cell_type": "markdown",
   "metadata": {},
   "source": [
    "Les résultats obtenus n'étant pas significatifs nous allons désormais tester la moyenne et l'écart type sur un ensemble de plusieurs traces."
   ]
  },
  {
   "cell_type": "code",
   "execution_count": null,
   "metadata": {},
   "outputs": [],
   "source": [
    "plt.rcParams['figure.figsize']=(16,8)\n",
    "traces_number = 500\n",
    "trace_mean = np.mean(ths[0:traces_number].samples, axis = 0)\n",
    "trace_std = np.std(ths[0:traces_number].samples, axis = 0)\n",
    "plt.subplot(2,1,1) \n",
    "plt.title('AES trace after vertical mean with nb traces of '+str(traces_number))\n",
    "plt.plot(trace_mean)\n",
    "plt.subplot(2,1,2) \n",
    "plt.title('AES trace after vertical variance with nb traces of '+str(traces_number))\n",
    "plt.plot(trace_std)\n",
    "plt.show()"
   ]
  },
  {
   "cell_type": "markdown",
   "metadata": {},
   "source": [
    "### Identifions et surlignons les rondes de l'AES"
   ]
  },
  {
   "cell_type": "code",
   "execution_count": null,
   "metadata": {},
   "outputs": [],
   "source": [
    "plt.rcParams['figure.figsize']=(16,8)\n",
    "\n",
    "beg_first_round = 11_500\n",
    "round_length = 2600\n",
    "borders = np.arange(beg_first_round, (beg_first_round+10*round_length), round_length)\n",
    "last_round_length = 1500\n",
    "\n",
    "plt.subplot(2,1,1) \n",
    "for i in range(1,10):    plt.axvspan(borders[i-1], borders[i], color='C'+str(i), alpha=0.3, label='round '+str(i))\n",
    "plt.axvspan(borders[9], borders[9]+last_round_length, color='C14', alpha=0.3, label='last round')\n",
    "plt.title('AES trace after vertical variance with nb traces of '+str(traces_number))\n",
    "plt.plot(trace_std)\n",
    "plt.legend(loc='upper right')\n",
    "\n",
    "plt.subplot(2,1,2) \n",
    "for i in range(1,10):    plt.axvspan(borders[i-1], borders[i], color='C'+str(i), alpha=0.3, label='round '+str(i))\n",
    "plt.axvspan(borders[9], borders[9]+last_round_length, color='C14', alpha=0.3, label='last round')\n",
    "plt.plot(ths.samples[0:1].T)\n",
    "plt.title('AES traces')\n",
    "plt.legend(loc='upper right')\n",
    "\n",
    "plt.show()"
   ]
  },
  {
   "cell_type": "markdown",
   "metadata": {},
   "source": [
    "### Analyse:\n",
    "#### On peut aisément identifier les 9 premières rondes de l'AES ainsi que la dernière ronde plus courte car cettte dernière ne contient pas l'opération MixColumn.\n"
   ]
  },
  {
   "cell_type": "markdown",
   "metadata": {},
   "source": [
    "### Zoomons à l'intérieur des rondes de l'AES"
   ]
  },
  {
   "cell_type": "code",
   "execution_count": null,
   "metadata": {},
   "outputs": [],
   "source": [
    "plt.rcParams['figure.figsize']=(16,8)\n",
    "segment = range(10_000,20_000)\n",
    "plt.subplot(2,1,1) \n",
    "plt.title('AES trace zoom after vertical mean with nb traces of '+str(traces_number))\n",
    "plt.plot(trace_mean[segment])\n",
    "plt.subplot(2,1,2) \n",
    "plt.title('AES trace zoom after vertical variance with nb traces of '+str(traces_number))\n",
    "plt.plot(trace_std[segment])\n",
    "plt.show()"
   ]
  },
  {
   "cell_type": "markdown",
   "metadata": {},
   "source": [
    "Peut on identifier les opérations de chaque ronde?"
   ]
  },
  {
   "cell_type": "code",
   "execution_count": null,
   "metadata": {},
   "outputs": [],
   "source": [
    "plt.rcParams['figure.figsize']=(16,8)\n",
    "\n",
    "beg_first_round = 11_500-segment[0]\n",
    "\n",
    "plt.subplot(2,1,1) \n",
    "plt.axvspan(beg_first_round, beg_first_round+400, color='C0', alpha=0.3, label='First Key addition')\n",
    "plt.axvspan(beg_first_round+400, beg_first_round+1100, color='C1', alpha=0.3, label='First SubBytes with Shiftrow')\n",
    "plt.axvspan(beg_first_round+1100, beg_first_round+2600, color='C2', alpha=0.3, label='First MixColumn')\n",
    "plt.axvspan(beg_first_round+2600, beg_first_round+3000, color='C3', alpha=0.3, label='Second Key addition')\n",
    "plt.title('Zoom on AES trace after vertical mean with nb traces of '+str(traces_number))\n",
    "plt.plot(trace_mean[segment])\n",
    "plt.legend(loc='upper right')\n",
    "\n",
    "plt.subplot(2,1,2) \n",
    "plt.axvspan(beg_first_round, beg_first_round+400, color='C0', alpha=0.3, label='First Key addition')\n",
    "plt.axvspan(beg_first_round+400, beg_first_round+1100, color='C1', alpha=0.3, label='First SubBytes with Shiftrow')\n",
    "plt.axvspan(beg_first_round+1100, beg_first_round+2600, color='C2', alpha=0.3, label='First MixColumn')\n",
    "plt.axvspan(beg_first_round+2600, beg_first_round+3000, color='C3', alpha=0.3, label='Second Key addition')\n",
    "plt.plot(ths.samples[0:1].T[segment])\n",
    "plt.title('Zoom on AES traces')\n",
    "plt.legend(loc='upper right')\n",
    "\n",
    "plt.show()"
   ]
  },
  {
   "cell_type": "markdown",
   "metadata": {},
   "source": [
    "### Analyse:\n",
    "#### On peut dans chaque ronde d'AES identifier la partie qui correspond à l'addition de la clef, a l'opération SubBytes(incluant ShiftRow) et le MixColumn.\n"
   ]
  },
  {
   "cell_type": "markdown",
   "metadata": {},
   "source": [
    "------\n",
    "<img src='images/DoIt.png' style='width: 100px'>\n",
    "\n",
    "# Peut on retrouver la clef ?\n",
    "\n",
    "## La CPA étant généralement plus performante que la DPA commencons par la CPA pour voir si on peut retrouver la clef de l'AES."
   ]
  },
  {
   "cell_type": "code",
   "execution_count": null,
   "metadata": {},
   "outputs": [],
   "source": [
    "# Create a container for your ths\n",
    "container = scared.Container(ths)"
   ]
  },
  {
   "cell_type": "markdown",
   "metadata": {},
   "source": [
    "On va attaquer en première ronde de l'AES, en sortie l'opération non linéaire SubBytes.\n",
    "* Nous allons choisir la CPA comme distinguisher, \n",
    "* nous considérons que le modèle de fuite est linéaire en le poids de Hamming des données manipulées,\n",
    "* le score de l'attaque sera le maximum de la corrélation en valeur absolue pour chaque guess our chaque byte de clef,\n",
    "* nous allons utiliser la convergence pour voir l'évolution de l'attaque toutes les 100 traces sur un total de 1000 traces."
   ]
  },
  {
   "cell_type": "code",
   "execution_count": null,
   "metadata": {},
   "outputs": [],
   "source": [
    "attack_cpa_first_SBout = scared.CPAAttack(\n",
    "        selection_function=scared.aes.selection_functions.encrypt.FirstSubBytes(),\n",
    "        model=scared.HammingWeight(),\n",
    "        discriminant=scared.maxabs,\n",
    "        convergence_step=len(ths)//10    \n",
    "    )"
   ]
  },
  {
   "cell_type": "code",
   "execution_count": null,
   "metadata": {},
   "outputs": [],
   "source": [
    "attack_cpa_first_SBout.run(container)"
   ]
  },
  {
   "cell_type": "markdown",
   "metadata": {},
   "source": [
    "Les scores obtenus sont stoqués dans `attack_cpa_first_sbout.scores`"
   ]
  },
  {
   "cell_type": "code",
   "execution_count": null,
   "metadata": {},
   "outputs": [],
   "source": [
    "attack_cpa_first_SBout.scores.shape"
   ]
  },
  {
   "cell_type": "markdown",
   "metadata": {},
   "source": [
    "On a un tableau de 256 x 16 éléments qui correspond au nombre de guess possibles(256) pour chaque byte des 16 bytes de clef de l'AES.\n",
    "En prenant pour chacun des 16 bytes de clef l'indice du guess qui a le score maximum nous espérons retrouver la clef."
   ]
  },
  {
   "cell_type": "code",
   "execution_count": null,
   "metadata": {},
   "outputs": [],
   "source": [
    "found_key = attack_cpa_first_SBout.scores.argmax(0).squeeze()"
   ]
  },
  {
   "cell_type": "code",
   "execution_count": null,
   "metadata": {},
   "outputs": [],
   "source": [
    "vhex = np.vectorize(hex)\n",
    "print(\"the first subkey round found is: \", vhex(np.array(found_key)))"
   ]
  },
  {
   "cell_type": "markdown",
   "metadata": {},
   "source": [
    "----\n",
    "------\n",
    "<img src='images/DoIt.png' style='width: 100px'>\n",
    "\n",
    "## Vérifions que la clef retrouvée est la bonne\n"
   ]
  },
  {
   "cell_type": "code",
   "execution_count": null,
   "metadata": {},
   "outputs": [],
   "source": [
    "computed_cipher = scared.aes.encrypt(plaintext = ths[0].plaintext, key = np.array(found_key, dtype=np.uint8))\n",
    "print(vhex(computed_cipher))\n",
    "print(vhex(ths[0].ciphertext))"
   ]
  },
  {
   "cell_type": "code",
   "execution_count": null,
   "metadata": {},
   "outputs": [],
   "source": [
    "computed_cipher - ths[0].ciphertext"
   ]
  },
  {
   "cell_type": "code",
   "execution_count": null,
   "metadata": {},
   "outputs": [],
   "source": [
    "correct_key = found_key"
   ]
  },
  {
   "cell_type": "markdown",
   "metadata": {},
   "source": [
    "### La clef retrouvée en CPA avec 1000 traces est la bonne.\n"
   ]
  },
  {
   "cell_type": "markdown",
   "metadata": {},
   "source": [
    "----\n",
    "------\n",
    "<img src='images/DoIt.png' style='width: 100px'>\n",
    "\n",
    "\n",
    "## Quel est le nombre de traces minimum (à 10 près) nécéssaire pour retrouver la clef directement avec la CPA."
   ]
  },
  {
   "cell_type": "markdown",
   "metadata": {},
   "source": [
    "### Affichons les résultats et observons les traces de convergence pour obtenir une première approximation du nombre de traces nécéssaires au succès de la CPA."
   ]
  },
  {
   "cell_type": "code",
   "execution_count": null,
   "metadata": {},
   "outputs": [],
   "source": [
    "attack_cpa_first_SBout.convergence_traces.shape"
   ]
  },
  {
   "cell_type": "code",
   "execution_count": null,
   "metadata": {},
   "outputs": [],
   "source": [
    "key_byte = 0\n",
    "plt.rcParams['figure.figsize']=(20,3)\n",
    "plt.subplot(1,3,1)\n",
    "plt.title('Attack traces results for key-byte '+str(key_byte))\n",
    "plt.plot(attack_cpa_first_SBout.results.T[:,key_byte,:])\n",
    "plt.subplot(1,3,2)\n",
    "plt.title('Attack scores per guess for key-byte '+str(key_byte))\n",
    "plt.plot(attack_cpa_first_SBout.scores[:,key_byte])\n",
    "plt.subplot(1,3,3)\n",
    "plt.title('Attack convergence traces for key-byte '+str(key_byte))\n",
    "plt.plot(attack_cpa_first_SBout.convergence_traces.T[:,key_byte, :])\n",
    "plt.show()"
   ]
  },
  {
   "cell_type": "markdown",
   "metadata": {},
   "source": [
    "### Pour être sur de notre observation affichons le vrai byte de clef en rouge et les 255 autres candidats en gris"
   ]
  },
  {
   "cell_type": "code",
   "execution_count": null,
   "metadata": {},
   "outputs": [],
   "source": [
    "for key_byte in range(16):\n",
    "    plt.rcParams['figure.figsize']=(20,2)\n",
    "    \n",
    "    plt.subplot(1,3,1)\n",
    "    plt.title('Attack traces results for key-byte '+str(key_byte))\n",
    "    for guess in range(256):\n",
    "        plt.plot(attack_cpa_first_SBout.results[guess,key_byte,:], color='Lightgrey')\n",
    "    plt.plot(attack_cpa_first_SBout.results[correct_key[key_byte],key_byte,:], color='red')\n",
    "\n",
    "    plt.subplot(1,3,2)\n",
    "    plt.title('Attack scores per guess for key-byte '+str(key_byte))\n",
    "    plt.plot(attack_cpa_first_SBout.scores[:,key_byte], color='Lightgrey')\n",
    "    plt.plot(correct_key[key_byte], attack_cpa_first_SBout.scores[correct_key[key_byte], key_byte], \"o\", color = 'red')\n",
    "\n",
    "    \n",
    "    plt.subplot(1,3,3)\n",
    "    plt.title('Attack convergence traces for key-byte '+str(key_byte))\n",
    "    for guess in range(256):\n",
    "        plt.plot(attack_cpa_first_SBout.convergence_traces[guess,key_byte,:], color='Lightgrey')\n",
    "    plt.plot(attack_cpa_first_SBout.convergence_traces[correct_key[key_byte],key_byte,:], color='red')\n",
    "\n",
    "    plt.show()"
   ]
  },
  {
   "cell_type": "markdown",
   "metadata": {},
   "source": [
    "### Nous observons que pour tous les bytes de clef il semble que 100 traces soient plus que suffisants.\n",
    "\n",
    "Relancons l'attaque avec moins de traces et une granularité de 10 pour la convergence ."
   ]
  },
  {
   "cell_type": "code",
   "execution_count": null,
   "metadata": {},
   "outputs": [],
   "source": [
    "# Create a container for your ths\n",
    "nb_traces_used = 100\n",
    "container = scared.Container(ths[:nb_traces_used])"
   ]
  },
  {
   "cell_type": "code",
   "execution_count": null,
   "metadata": {},
   "outputs": [],
   "source": [
    "attack_cpa_first_SBout = scared.CPAAttack(\n",
    "        selection_function=scared.aes.selection_functions.encrypt.FirstSubBytes(),\n",
    "        model=scared.HammingWeight(),\n",
    "        discriminant=scared.maxabs,\n",
    "        convergence_step=len(ths[:nb_traces_used])//20 \n",
    "    )"
   ]
  },
  {
   "cell_type": "code",
   "execution_count": null,
   "metadata": {},
   "outputs": [],
   "source": [
    "attack_cpa_first_SBout.run(container)"
   ]
  },
  {
   "cell_type": "code",
   "execution_count": null,
   "metadata": {},
   "outputs": [],
   "source": [
    "found_key = attack_cpa_first_SBout.scores.argmax(0).squeeze()"
   ]
  },
  {
   "cell_type": "code",
   "execution_count": null,
   "metadata": {},
   "outputs": [],
   "source": [
    "vhex = np.vectorize(hex)\n",
    "print(\"the first subkey round found is: \", vhex(np.array(found_key)))"
   ]
  },
  {
   "cell_type": "code",
   "execution_count": null,
   "metadata": {},
   "outputs": [],
   "source": [
    "found_key - correct_key"
   ]
  },
  {
   "cell_type": "markdown",
   "metadata": {},
   "source": [
    "#### La clef retrouvée est toujours la bonne avec 100 traces."
   ]
  },
  {
   "cell_type": "markdown",
   "metadata": {},
   "source": [
    "### Pour être sur de notre observation affichons le vrai byte de clef en rouge et les 255 autres candidats en gris\n",
    "### Limitons nous aux traces de convergence et affichons le nombre exact de traces en abscisse."
   ]
  },
  {
   "cell_type": "code",
   "execution_count": null,
   "metadata": {},
   "outputs": [],
   "source": [
    "for key_byte in range(16):\n",
    "    \n",
    "    figure_axes_text_size = 14    \n",
    "    plt.rcParams['figure.figsize']=(20,2)\n",
    "    plt.title('Attack convergence traces for key-byte '+str(key_byte))\n",
    "    CONV_POINTS =  attack_cpa_first_SBout.convergence_traces.shape[2]\n",
    "    \n",
    "    # Set axes and legend\n",
    "    plt.xlabel('traces number', size = figure_axes_text_size)\n",
    "    plt.ylabel('score', size = figure_axes_text_size)\n",
    "    plt.xticks(np.arange(0,CONV_POINTS, 1),np.arange(1,CONV_POINTS+1, 1)*(attack_cpa_first_SBout.convergence_step), size = figure_axes_text_size)\n",
    "    plt.title('Convergence traces results byte '+str(key_byte), size = figure_axes_text_size)\n",
    "    plt.yticks(size = figure_axes_text_size)\n",
    "    \n",
    "    for guess in range(256):\n",
    "        plt.plot(attack_cpa_first_SBout.convergence_traces[guess,key_byte,:], color='Lightgrey')\n",
    "    plt.plot(attack_cpa_first_SBout.convergence_traces[correct_key[key_byte],key_byte,:], color='red')\n",
    "\n",
    "    plt.show()"
   ]
  },
  {
   "cell_type": "markdown",
   "metadata": {},
   "source": [
    "## Conclusion\n",
    "\n",
    "### Le byte 4 requiert 60 traces sur les traces de convergence et semble être le pire résultat des 16 bytes de clef.\n",
    "### Donc a 10 courbes près on peut conclure qu'il faut 60 traces d'AES pour retrouver la clef.\n",
    "\n",
    "### Il suffit de relancer l'attaque avec 50 traces: manque le byte 4 et 60 traces (full recovery) pour en avoir la confirmation"
   ]
  },
  {
   "cell_type": "markdown",
   "metadata": {},
   "source": [
    "------\n",
    "<img src='images/DoIt.png' style='width: 100px'>\n",
    "\n",
    "# Voyons ce que donne la DPA maintenant que nous connaissons la vraie clef pour vérifier"
   ]
  },
  {
   "cell_type": "code",
   "execution_count": null,
   "metadata": {},
   "outputs": [],
   "source": [
    "container = scared.Container(ths)"
   ]
  },
  {
   "cell_type": "code",
   "execution_count": null,
   "metadata": {},
   "outputs": [],
   "source": [
    "attack_dpa_first_SBout = scared.DPAAttack(\n",
    "        selection_function=scared.aes.selection_functions.encrypt.FirstSubBytes(),\n",
    "        model=scared.Monobit(0),\n",
    "        discriminant=scared.maxabs,\n",
    "        convergence_step=len(ths)//10    \n",
    "    )"
   ]
  },
  {
   "cell_type": "code",
   "execution_count": null,
   "metadata": {},
   "outputs": [],
   "source": [
    "attack_dpa_first_SBout.run(container)"
   ]
  },
  {
   "cell_type": "code",
   "execution_count": null,
   "metadata": {},
   "outputs": [],
   "source": [
    "found_key = attack_dpa_first_SBout.scores.argmax(0).squeeze()"
   ]
  },
  {
   "cell_type": "code",
   "execution_count": null,
   "metadata": {},
   "outputs": [],
   "source": [
    "vhex = np.vectorize(hex)\n",
    "print(\"the first subkey round found is: \", vhex(np.array(found_key)))"
   ]
  },
  {
   "cell_type": "code",
   "execution_count": null,
   "metadata": {},
   "outputs": [],
   "source": [
    "found_key - correct_key"
   ]
  },
  {
   "cell_type": "markdown",
   "metadata": {},
   "source": [
    "## --> Il semblerait donc que en s'y prenant de la sorte, la DPA, à elle seule, ne permet pas de retrouver toute la clef avec 1000 traces, il manquerait un byte."
   ]
  },
  {
   "cell_type": "markdown",
   "metadata": {},
   "source": [
    "### Pour être sur de notre observation affichons le vrai byte de clef en rouge et les 255 autres candidats en gris"
   ]
  },
  {
   "cell_type": "code",
   "execution_count": null,
   "metadata": {},
   "outputs": [],
   "source": [
    "for key_byte in range(16):\n",
    "    plt.rcParams['figure.figsize']=(20,2)\n",
    "    \n",
    "    plt.subplot(1,3,1)\n",
    "    plt.title('Attack traces results for key-byte '+str(key_byte))\n",
    "    for guess in range(256):\n",
    "        plt.plot(attack_dpa_first_SBout.results[guess,key_byte,:], color='Lightgrey')\n",
    "    plt.plot(attack_dpa_first_SBout.results[correct_key[key_byte],key_byte,:], color='red')\n",
    "\n",
    "    plt.subplot(1,3,2)\n",
    "    plt.title('Attack scores per guess for key-byte '+str(key_byte))\n",
    "    plt.plot(attack_dpa_first_SBout.scores[:,key_byte], color='Lightgrey')\n",
    "    plt.plot(correct_key[key_byte], attack_dpa_first_SBout.scores[correct_key[key_byte], key_byte], \"o\", color = 'red')\n",
    "\n",
    "    \n",
    "    plt.subplot(1,3,3)\n",
    "    plt.title('Attack convergence traces for key-byte '+str(key_byte))\n",
    "    for guess in range(256):\n",
    "        plt.plot(attack_dpa_first_SBout.convergence_traces[guess,key_byte,:], color='Lightgrey')\n",
    "    plt.plot(attack_dpa_first_SBout.convergence_traces[correct_key[key_byte],key_byte,:], color='red')\n",
    "\n",
    "    plt.show()"
   ]
  },
  {
   "cell_type": "markdown",
   "metadata": {},
   "source": [
    "### Analyse\n",
    "* Le byte 15 n'est pas retrouvé en DPA\n",
    "* Les bytes 4, 6 et 11 sortent en premier mais pas nettement.\n",
    "\n",
    "### __Mais nous ne pouvons pas pour autant conclure que l'attaque DPA ne permet pas de retrouver les bytes de clef avec 1000 traces.__\n",
    "\n",
    "On observe que des ghost peaks sont présents au début de la courbe ce qui fausse les résultats, hors ces peaks ne sont pas dans la zone de la ronde 1 probablement?\n",
    "\n",
    "Souvenons nous, et cela aurait pu être utilisé dès le début aussi, que nous attaquons en première ronde de l'AES, hors nous avons su repéré la première ronde dans la trace de l'AES collectée."
   ]
  },
  {
   "cell_type": "code",
   "execution_count": null,
   "metadata": {},
   "outputs": [],
   "source": [
    "plt.rcParams['figure.figsize']=(18,4)\n",
    "\n",
    "beg_first_round = 11_500\n",
    "round_length = 2600\n",
    "borders = np.arange(beg_first_round, (beg_first_round+10*round_length), round_length)\n",
    "last_round_length = 1500\n",
    "\n",
    "for i in range(1,10):    plt.axvspan(borders[i-1], borders[i], color='C'+str(i), alpha=0.3, label='round '+str(i))\n",
    "plt.axvspan(borders[9], borders[9]+last_round_length, color='C14', alpha=0.3, label='last round')\n",
    "plt.title('AES trace after vertical variance with nb traces of '+str(traces_number))\n",
    "plt.plot(trace_std)\n",
    "plt.legend(loc='upper right')\n",
    "\n",
    "plt.show()"
   ]
  },
  {
   "cell_type": "markdown",
   "metadata": {},
   "source": [
    "Nous pouvons donc concentrer l'attaque DPA (et la CPA) uniquement sur la zone dans la trace qui correspond à la première ronde, soit à l'intervalle de points [11_500, 14_100], nous pourrions même réduire encore plus car nous avons également repéré précisément dans la trace la zone correspondant à SubBytes dans la première ronde.\n",
    "\n",
    "### Relançons l'attaque DPA dans cette fenêtre uniquement"
   ]
  },
  {
   "cell_type": "code",
   "execution_count": null,
   "metadata": {},
   "outputs": [],
   "source": [
    "container = scared.Container(ths, frame = range(11_500,14_000))"
   ]
  },
  {
   "cell_type": "code",
   "execution_count": null,
   "metadata": {},
   "outputs": [],
   "source": [
    "attack_dpa_first_SBout = scared.DPAAttack(\n",
    "        selection_function=scared.aes.selection_functions.encrypt.FirstSubBytes(),\n",
    "        model=scared.Monobit(0),\n",
    "        discriminant=scared.maxabs,\n",
    "        convergence_step=len(ths)//20    \n",
    "    )"
   ]
  },
  {
   "cell_type": "code",
   "execution_count": null,
   "metadata": {},
   "outputs": [],
   "source": [
    "attack_dpa_first_SBout.run(container)"
   ]
  },
  {
   "cell_type": "code",
   "execution_count": null,
   "metadata": {},
   "outputs": [],
   "source": [
    "found_key = attack_dpa_first_SBout.scores.argmax(0).squeeze()"
   ]
  },
  {
   "cell_type": "code",
   "execution_count": null,
   "metadata": {},
   "outputs": [],
   "source": [
    "vhex = np.vectorize(hex)\n",
    "print(\"the first subkey round found is: \", vhex(np.array(found_key)))"
   ]
  },
  {
   "cell_type": "code",
   "execution_count": null,
   "metadata": {},
   "outputs": [],
   "source": [
    "found_key - correct_key"
   ]
  },
  {
   "cell_type": "markdown",
   "metadata": {},
   "source": [
    "Cette fois ci, la DPA retrouve toute la clef, nous voyons bien l'interêt de repérer dans un premier temps en analyse la zone qui nous importe avant de réaliser l'attaque."
   ]
  },
  {
   "cell_type": "markdown",
   "metadata": {},
   "source": [
    "### Observons à nouveau les résultats et concluons sur le nombre de traces nécéssaires au succès de l'attaque DPA"
   ]
  },
  {
   "cell_type": "code",
   "execution_count": null,
   "metadata": {},
   "outputs": [],
   "source": [
    "for key_byte in range(16):\n",
    "    \n",
    "    plt.rcParams['figure.figsize']=(20,2)\n",
    "    plt.title('Attack convergence traces for key-byte '+str(key_byte))\n",
    "    CONV_POINTS =  attack_dpa_first_SBout.convergence_traces.shape[2]\n",
    "    \n",
    "    # Set axes and legend\n",
    "    plt.xlabel('traces number', size = figure_axes_text_size)\n",
    "    plt.ylabel('score', size = figure_axes_text_size)\n",
    "    plt.xticks(np.arange(0,CONV_POINTS, 1),np.arange(1,CONV_POINTS+1, 1)*(attack_dpa_first_SBout.convergence_step), size = figure_axes_text_size)\n",
    "    plt.title('Convergence traces results byte '+str(key_byte), size = figure_axes_text_size)\n",
    "    plt.yticks(size = figure_axes_text_size)\n",
    "    \n",
    "    for guess in range(256):\n",
    "        plt.plot(attack_dpa_first_SBout.convergence_traces[guess,key_byte,:], color='Lightgrey')\n",
    "    plt.plot(attack_dpa_first_SBout.convergence_traces[correct_key[key_byte],key_byte,:], color='red')\n",
    "\n",
    "    plt.show()"
   ]
  },
  {
   "cell_type": "markdown",
   "metadata": {},
   "source": [
    "### On peut donc retrouver la clef en DPA avec 550 traces environ."
   ]
  },
  {
   "cell_type": "markdown",
   "metadata": {},
   "source": [
    "----\n",
    "------\n",
    "<img src='images/DoIt.png' style='width: 100px'>\n",
    "\n",
    "# CONCLUSION DU TP\n",
    "\n",
    "\n",
    "## On observe ainsi que la CPA permet de retrouver la clef complète avec 60 traces d'AES quand la DPA requiert 550 traces et que l'on focalise l'attaque sur la zone temporelle (de la trace) correspondant à la première ronde.\n",
    "\n"
   ]
  },
  {
   "cell_type": "markdown",
   "metadata": {},
   "source": [
    "------\n",
    "## Optionel: réaliser l'attaque par la fin de l'algorithme par le chiffré"
   ]
  },
  {
   "cell_type": "code",
   "execution_count": null,
   "metadata": {},
   "outputs": [],
   "source": [
    "container = scared.Container(ths)"
   ]
  },
  {
   "cell_type": "code",
   "execution_count": null,
   "metadata": {},
   "outputs": [],
   "source": [
    "attack_cpa_last_SBin = scared.CPAAttack(\n",
    "        selection_function=scared.aes.selection_functions.decrypt.LastSubBytes(),\n",
    "        model=scared.HammingWeight(),\n",
    "        discriminant=scared.maxabs,\n",
    "        convergence_step=len(ths)//10    \n",
    "    )"
   ]
  },
  {
   "cell_type": "code",
   "execution_count": null,
   "metadata": {},
   "outputs": [],
   "source": [
    "attack_cpa_last_SBin.run(container)"
   ]
  },
  {
   "cell_type": "code",
   "execution_count": null,
   "metadata": {},
   "outputs": [],
   "source": [
    "found_key = attack_cpa_last_SBin.scores.argmax(0).squeeze()"
   ]
  },
  {
   "cell_type": "code",
   "execution_count": null,
   "metadata": {},
   "outputs": [],
   "source": [
    "vhex = np.vectorize(hex)\n",
    "print(\"the last subkey round found is: \", vhex(found_key))"
   ]
  },
  {
   "cell_type": "markdown",
   "metadata": {},
   "source": [
    "### Nous pouvons retrouver la dernière sous clef de l'AES en attaquant par la fin et par le chiffré"
   ]
  },
  {
   "cell_type": "markdown",
   "metadata": {},
   "source": [
    "## Optionel: réaliser l'attaque par la fin de l'algorithme par le plaintext (input)"
   ]
  },
  {
   "cell_type": "code",
   "execution_count": null,
   "metadata": {},
   "outputs": [],
   "source": [
    "attack_cpa_last_SBin = scared.CPAAttack(\n",
    "        selection_function=scared.aes.selection_functions.encrypt.LastSubBytes(),\n",
    "        model=scared.HammingWeight(),\n",
    "        discriminant=scared.maxabs,\n",
    "        convergence_step=len(ths)//10    \n",
    "    )"
   ]
  },
  {
   "cell_type": "code",
   "execution_count": null,
   "metadata": {},
   "outputs": [],
   "source": [
    "attack_cpa_last_SBin.run(container)"
   ]
  },
  {
   "cell_type": "code",
   "execution_count": null,
   "metadata": {},
   "outputs": [],
   "source": [
    "found_key = attack_cpa_last_SBin.scores.argmax(0).squeeze()"
   ]
  },
  {
   "cell_type": "code",
   "execution_count": null,
   "metadata": {},
   "outputs": [],
   "source": [
    "vhex = np.vectorize(hex)\n",
    "print(\"the last subkey round found is: \", vhex(found_key))"
   ]
  },
  {
   "cell_type": "markdown",
   "metadata": {},
   "source": [
    "### Ici nous attaquons la dernière ronde de l'AES, donc la clef attendue est la dernière sous clef du key schedule de l'AES 128 et non pas la clef maitre de l'AES.\n",
    "\n",
    "Calculons donc cette dernière sous clef pour la comparer avec la clef attendue."
   ]
  },
  {
   "cell_type": "code",
   "execution_count": null,
   "metadata": {},
   "outputs": [],
   "source": [
    "last_round_subkey = scared.aes.key_schedule(np.array(correct_key, dtype=np.uint8))[-1]\n",
    "print(\"the correct last subkey round is: \", vhex(last_round_subkey))"
   ]
  },
  {
   "cell_type": "code",
   "execution_count": null,
   "metadata": {},
   "outputs": [],
   "source": [
    "found_key - last_round_subkey"
   ]
  },
  {
   "cell_type": "markdown",
   "metadata": {},
   "source": [
    "### Nous pouvons retrouver la dernière sous clef de l'AES en attaquant par la fin et donc retrouver la clef maitre de l'AES en inversant le key schedule de l\"AES."
   ]
  },
  {
   "cell_type": "code",
   "execution_count": null,
   "metadata": {},
   "outputs": [],
   "source": [
    "for key_byte in range(16):\n",
    "    plt.rcParams['figure.figsize']=(20,2)\n",
    "    \n",
    "    plt.subplot(1,3,1)\n",
    "    plt.title('Attack traces results for key-byte '+str(key_byte))\n",
    "    for guess in range(256):\n",
    "        plt.plot(attack_cpa_last_SBin.results[guess,key_byte,:], color='Lightgrey')\n",
    "    plt.plot(attack_cpa_last_SBin.results[last_round_subkey[key_byte],key_byte,:], color='red')\n",
    "\n",
    "    plt.subplot(1,3,2)\n",
    "    plt.title('Attack scores per guess for key-byte '+str(key_byte))\n",
    "    plt.plot(attack_cpa_last_SBin.scores[:,key_byte], color='Lightgrey')\n",
    "    plt.plot(last_round_subkey[key_byte], attack_cpa_last_SBin.scores[last_round_subkey[key_byte], key_byte], \"o\", color = 'red')\n",
    "\n",
    "    \n",
    "    plt.subplot(1,3,3)\n",
    "    plt.title('Attack convergence traces for key-byte '+str(key_byte))\n",
    "    for guess in range(256):\n",
    "        plt.plot(attack_cpa_last_SBin.convergence_traces[guess,key_byte,:], color='Lightgrey')\n",
    "    plt.plot(attack_cpa_last_SBin.convergence_traces[last_round_subkey[key_byte],key_byte,:], color='red')\n",
    "\n",
    "    plt.show()"
   ]
  },
  {
   "cell_type": "code",
   "execution_count": null,
   "metadata": {},
   "outputs": [],
   "source": []
  }
 ],
 "metadata": {
  "kernelspec": {
   "display_name": "Python 3",
   "language": "python",
   "name": "python3"
  },
  "language_info": {
   "codemirror_mode": {
    "name": "ipython",
    "version": 3
   },
   "file_extension": ".py",
   "mimetype": "text/x-python",
   "name": "python",
   "nbconvert_exporter": "python",
   "pygments_lexer": "ipython3",
   "version": "3.7.9"
  }
 },
 "nbformat": 4,
 "nbformat_minor": 4
}
