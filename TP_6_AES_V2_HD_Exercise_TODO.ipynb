{
 "cells": [
  {
   "cell_type": "markdown",
   "metadata": {},
   "source": [
    "# AES V2 Side-channel Analysis\n",
    "\n",
    "#### Recover the Key\n",
    "\n",
    "<img src='images/DoIt.png' style='width: 100px'>\n",
    "\n",
    "# DO IT YOURSELF"
   ]
  },
  {
   "cell_type": "markdown",
   "metadata": {},
   "source": [
    "#### Imports"
   ]
  },
  {
   "cell_type": "code",
   "execution_count": 6,
   "metadata": {},
   "outputs": [],
   "source": [
    "import numpy as np\n",
    "import matplotlib.pyplot as plt\n",
    "    \n",
    "plt.rcParams[\"figure.figsize\"] = [20, 5]"
   ]
  },
  {
   "cell_type": "markdown",
   "metadata": {},
   "source": [
    "---\n",
    "<img src='images/DoIt.png' style='width: 100px'>\n",
    "\n",
    "## Import the traces needed for the analysis"
   ]
  },
  {
   "cell_type": "markdown",
   "metadata": {},
   "source": [
    "<img src='images/DoIt.png' style='width: 100px'>\n",
    "\n",
    "#### Load the trace 'AESV2_12Ktraces_set.ets'\n",
    "from SideSCA-Traces-Public: git clone https://github.com/BeneoLix/SideSCA-Traces-Public.git"
   ]
  },
  {
   "cell_type": "code",
   "execution_count": 7,
   "metadata": {},
   "outputs": [],
   "source": [
    "import estraces"
   ]
  },
  {
   "cell_type": "code",
   "execution_count": 8,
   "metadata": {},
   "outputs": [],
   "source": [
    "ths = estraces.read_ths_from_ets_file(\"../SideSCA-Traces-Public/AESV2_12Ktraces_set.ets\") "
   ]
  },
  {
   "cell_type": "markdown",
   "metadata": {},
   "source": [
    "---\n",
    "<img src='images/DoIt.png' style='width: 100px'>\n",
    "\n",
    "#### Print the ths information, the ths len\n"
   ]
  },
  {
   "cell_type": "code",
   "execution_count": 9,
   "metadata": {},
   "outputs": [
    {
     "name": "stdout",
     "output_type": "stream",
     "text": [
      "Trace Header Set:\n",
      "Name.............: ETS Format THS\n",
      "Reader...........: ETS format reader of file ../SideSCA-Traces-Public/AESV2_12Ktraces_set.ets with 12000 traces.\n",
      "ciphertext.......: uint8\n",
      "key..............: uint8\n",
      "plaintext........: uint8\n",
      "\n"
     ]
    }
   ],
   "source": [
    "print(ths)"
   ]
  },
  {
   "cell_type": "markdown",
   "metadata": {},
   "source": [
    "---\n",
    "<img src='images/DoIt.png' style='width: 100px'>\n",
    "\n",
    "## Plot and Observe  the traces\n"
   ]
  },
  {
   "cell_type": "code",
   "execution_count": null,
   "metadata": {},
   "outputs": [],
   "source": [
    "plt.plot(ths[0].samples.T)\n",
    "plt.show()"
   ]
  },
  {
   "cell_type": "markdown",
   "metadata": {},
   "source": [
    "-------------\n",
    "<img src='images/DoIt.png' style='width: 100px'>\n",
    "\n",
    "### Now perform the right attack to recover the key\n",
    "\n",
    "------"
   ]
  },
  {
   "cell_type": "code",
   "execution_count": null,
   "metadata": {},
   "outputs": [],
   "source": []
  },
  {
   "cell_type": "code",
   "execution_count": null,
   "metadata": {},
   "outputs": [],
   "source": []
  },
  {
   "cell_type": "code",
   "execution_count": null,
   "metadata": {},
   "outputs": [],
   "source": []
  }
 ],
 "metadata": {
  "kernelspec": {
   "display_name": "Python 3",
   "language": "python",
   "name": "python3"
  },
  "language_info": {
   "codemirror_mode": {
    "name": "ipython",
    "version": 3
   },
   "file_extension": ".py",
   "mimetype": "text/x-python",
   "name": "python",
   "nbconvert_exporter": "python",
   "pygments_lexer": "ipython3",
   "version": "3.7.9"
  }
 },
 "nbformat": 4,
 "nbformat_minor": 4
}
