{
 "cells": [
  {
   "cell_type": "markdown",
   "metadata": {},
   "source": [
    "---------\n",
    "# Recovering secret exponent in RSA Straightforward Modular Exponentiation\n",
    "-------\n",
    "<img src='images/DoIt.png' style='width: 100px'>\n",
    "\n",
    "# DO IT YOURSELF"
   ]
  },
  {
   "cell_type": "code",
   "execution_count": 1,
   "metadata": {},
   "outputs": [],
   "source": [
    "import warnings\n",
    "warnings.filterwarnings('ignore')"
   ]
  },
  {
   "cell_type": "code",
   "execution_count": 2,
   "metadata": {},
   "outputs": [],
   "source": [
    "import numpy as np"
   ]
  },
  {
   "cell_type": "markdown",
   "metadata": {},
   "source": [
    "<img src='images/DoIt.png' style='width: 100px'>\n",
    "\n",
    "#### Load the trace 'RSA_SSTIC_power_consumption.npz'\n",
    "from SideSCA-Traces-Public: git clone https://github.com/BeneoLix/SideSCA-Traces-Public.git"
   ]
  },
  {
   "cell_type": "markdown",
   "metadata": {},
   "source": [
    "#### How to handle a numpy npz file: https://numpy.org/doc/stable/reference/generated/numpy.savez.html\n",
    "    "
   ]
  },
  {
   "cell_type": "code",
   "execution_count": null,
   "metadata": {},
   "outputs": [],
   "source": [
    "trace_npz = ...\n",
    "trace_lst = trace_npz.files"
   ]
  },
  {
   "cell_type": "code",
   "execution_count": null,
   "metadata": {},
   "outputs": [],
   "source": [
    "print(trace_lst)"
   ]
  },
  {
   "cell_type": "code",
   "execution_count": null,
   "metadata": {},
   "outputs": [],
   "source": [
    "trace = trace_npz['arr_0']\n",
    "len(trace)"
   ]
  },
  {
   "cell_type": "code",
   "execution_count": null,
   "metadata": {},
   "outputs": [],
   "source": [
    "trace[0:20]"
   ]
  },
  {
   "cell_type": "markdown",
   "metadata": {},
   "source": [
    "<img src='images/DoIt.png' style='width: 100px'>\n",
    "\n",
    "## Plot the trace, zoom, observe and deduce the algorithm here"
   ]
  },
  {
   "cell_type": "code",
   "execution_count": null,
   "metadata": {},
   "outputs": [],
   "source": [
    "import matplotlib.pyplot as plt"
   ]
  },
  {
   "cell_type": "code",
   "execution_count": null,
   "metadata": {},
   "outputs": [],
   "source": [
    "..."
   ]
  },
  {
   "cell_type": "markdown",
   "metadata": {},
   "source": [
    "#### You can use backend matplotlib"
   ]
  },
  {
   "cell_type": "code",
   "execution_count": null,
   "metadata": {},
   "outputs": [],
   "source": [
    "%matplotlib\n",
    "..."
   ]
  },
  {
   "cell_type": "code",
   "execution_count": null,
   "metadata": {},
   "outputs": [],
   "source": [
    "trace_algo = trace[650000:1600000]"
   ]
  },
  {
   "cell_type": "code",
   "execution_count": null,
   "metadata": {},
   "outputs": [],
   "source": [
    "%matplotlib inline\n",
    "plt.plot(trace_algo[::10])\n",
    "plt.show()"
   ]
  },
  {
   "cell_type": "markdown",
   "metadata": {},
   "source": [
    "<img src='images/DoIt.png' style='width: 100px'>\n",
    "\n",
    "## Can you recover the secret exponent ?\n",
    "\n",
    "#### Indication:\n",
    "\n",
    "* modulus N = 0xD072DD3F639C2D0E1FF69AB965782F668D7BFFAC766AEEAB5DA84AE373F8C0DCAA18C6BDCBD551BB012F42AFC0F3FC4AAD438C212FF8A4E597053CD60B54AC484714FBAE059C97F8138CEDE9A80060D3C816288FF2C77D82081E586F73EE78E06F69D7D57596ACF1959D6F3ED00D2CDDB11DECF25A379DEF4DCE3B264AD7E819\n",
    "* public exponent e = 2**16+1 = 65537"
   ]
  },
  {
   "cell_type": "markdown",
   "metadata": {},
   "source": [
    "#### This information is enough to validate the secret exponent you would have recovered."
   ]
  },
  {
   "cell_type": "markdown",
   "metadata": {},
   "source": [
    "-------\n",
    "The information below is additional information in case you do not see how to use only the modulus and the public exponent knowledge for the validation of your finding."
   ]
  },
  {
   "cell_type": "markdown",
   "metadata": {},
   "source": [
    "------------"
   ]
  },
  {
   "cell_type": "markdown",
   "metadata": {},
   "source": [
    "plain = 0x17751699e1fdcf36867e12ce89739596ccc41adaf3cae6c277e37fdd87858d98aa565ca94e8ff15329f3fa05eea43700\n",
    "f4981b0dc46f33f4df6f0e58f43e5872bad8a82523c4771b6057a961ea318797b9c237f458a48eb8aa80b9019d7e37a72a41abb948\n",
    "76c5bc4804d6479a35771992dfeffc98f51f61aab9625c7e6fe344\n",
    "\n",
    "signature = 0x488cc043393414298f7ee857c5067150d3896408fecbadb21f57749b6d7a470e0e57679d304993f0543301142e075\n",
    "9f84712891d24917568f58e66b8d8a1ee153dcd12df260b1869d3c5a60c9226edd5418aff385719264a6ca38bb916103903901f9b80\n",
    "a3260c46bed8c26ea42411023d78987668b9ae5d8f9be2137e9db140\n",
    "\n",
    "## You must have as result:\n",
    "\n",
    "$$ plain^{recovered\\_exponent\\_d} = signature$$"
   ]
  },
  {
   "cell_type": "markdown",
   "metadata": {},
   "source": [
    "You must count 1024 operations/peaks, so not 1024+512 as we would expect from a classical Square&Multiply algorithm.\n",
    "\n",
    "So let's suppose:\n",
    "- the higher peaks are squaring+multiplication\n",
    "- the lower peaks are only squaring\n",
    "\n",
    "or the reverse situation."
   ]
  },
  {
   "cell_type": "markdown",
   "metadata": {},
   "source": [
    "### Reminder\n",
    "<img src='images/RtoL_LtoR_modExpos.png' style='width: 1200px'>"
   ]
  },
  {
   "cell_type": "markdown",
   "metadata": {},
   "source": [
    "<img src='images/DoIt.png' style='width: 100px'>\n",
    "\n",
    "## Secret recovery is starting ...\n",
    "\n"
   ]
  },
  {
   "cell_type": "code",
   "execution_count": null,
   "metadata": {},
   "outputs": [],
   "source": []
  }
 ],
 "metadata": {
  "kernelspec": {
   "display_name": "Python 3",
   "language": "python",
   "name": "python3"
  },
  "language_info": {
   "codemirror_mode": {
    "name": "ipython",
    "version": 3
   },
   "file_extension": ".py",
   "mimetype": "text/x-python",
   "name": "python",
   "nbconvert_exporter": "python",
   "pygments_lexer": "ipython3",
   "version": "3.7.9"
  }
 },
 "nbformat": 4,
 "nbformat_minor": 4
}
